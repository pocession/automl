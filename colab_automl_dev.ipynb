{
  "nbformat": 4,
  "nbformat_minor": 0,
  "metadata": {
    "colab": {
      "provenance": [],
      "authorship_tag": "ABX9TyNolYISZMjU6VRo5walUzaJ",
      "include_colab_link": true
    },
    "kernelspec": {
      "name": "python3",
      "display_name": "Python 3"
    },
    "language_info": {
      "name": "python"
    }
  },
  "cells": [
    {
      "cell_type": "markdown",
      "metadata": {
        "id": "view-in-github",
        "colab_type": "text"
      },
      "source": [
        "<a href=\"https://colab.research.google.com/github/pocession/automl/blob/main/colab_automl_dev.ipynb\" target=\"_parent\"><img src=\"https://colab.research.google.com/assets/colab-badge.svg\" alt=\"Open In Colab\"/></a>"
      ]
    },
    {
      "cell_type": "markdown",
      "source": [
        "# Connect to my gdrive"
      ],
      "metadata": {
        "id": "rNdQMYU5cF3G"
      }
    },
    {
      "cell_type": "code",
      "source": [
        "from google.colab import drive\n",
        " \n",
        "drive.mount('/content/gdrive')\n",
        "!ls /content/gdrive/My\\ Drive/automl"
      ],
      "metadata": {
        "id": "YBshFayUcHWh",
        "colab": {
          "base_uri": "https://localhost:8080/"
        },
        "outputId": "c5407568-6641-40ff-dfb7-0f36d1fe26b8"
      },
      "execution_count": null,
      "outputs": [
        {
          "output_type": "stream",
          "name": "stdout",
          "text": [
            "Drive already mounted at /content/gdrive; to attempt to forcibly remount, call drive.mount(\"/content/gdrive\", force_remount=True).\n",
            "app.py\t\t\tdataset.csv\tnohup.out\t  sourcedata.csv\n",
            "cell.png\t\tDidNotWorkInM1\tREADME.md\t  test.py\n",
            "colab_automl_dev.ipynb\tlogs.log\trequirements.txt\n"
          ]
        }
      ]
    },
    {
      "cell_type": "markdown",
      "source": [
        "# Package installation"
      ],
      "metadata": {
        "id": "dIjHBd-QW1uC"
      }
    },
    {
      "cell_type": "code",
      "source": [
        "# use terminal if you are more used to it\n",
        "\n",
        "# !pip install colab-xterm\n",
        "# %load_ext colabxterm\n",
        "# %xterm\n",
        "\n",
        "!pip install pycaret\n",
        "!pip install streamlit\n",
        "!pip install pyngrok\n",
        "!pip install streamlit_pandas_profiling\n",
        "\n",
        "# Builder\n",
        "\n",
        "!pip install --upgrade protobuf\n",
        "\n",
        "# Install other packages\n",
        "\n",
        "!pip install -r /content/gdrive/My\\ Drive/automl/requirements.txt\n",
        "\n",
        "# Install ngrok\n",
        "\n",
        "!rm ngrok*\n",
        "!wget https://bin.equinox.io/c/bNyj1mQVY4c/ngrok-v3-stable-linux-amd64.tgz\n",
        "!tar -xvzf ngrok-v3-stable-linux-amd64.tgz\n",
        "!ls\n",
        "!mv ngrok /usr/bin/\n",
        "!ls\n",
        "\n",
        "# Check packages\n",
        "\n",
        "!pip list -v"
      ],
      "metadata": {
        "id": "h-PiCYaCUx1o"
      },
      "execution_count": null,
      "outputs": []
    },
    {
      "cell_type": "markdown",
      "source": [
        "# Run App"
      ],
      "metadata": {
        "id": "HgwrULTKdXNR"
      }
    },
    {
      "cell_type": "code",
      "source": [
        "# Run app\n",
        "\n",
        "%cd /content/gdrive/My\\ Drive/automl\n",
        "!streamlit run app.py & npx localtunnel --port 8501 "
      ],
      "metadata": {
        "id": "pLvVsI4c5HMs"
      },
      "execution_count": null,
      "outputs": []
    },
    {
      "cell_type": "markdown",
      "source": [
        "# Create a public url for other people to use with ngrok"
      ],
      "metadata": {
        "id": "U1dcizdzE85w"
      }
    },
    {
      "cell_type": "code",
      "source": [
        "# Make sure to kill all ngrok and streamlit task now\n",
        "\n",
        "!killall ngrok\n",
        "!killall streamlit"
      ],
      "metadata": {
        "colab": {
          "base_uri": "https://localhost:8080/"
        },
        "id": "yBoK6omXE7eg",
        "outputId": "a298b782-0d26-4a6e-a715-183445855533"
      },
      "execution_count": null,
      "outputs": [
        {
          "output_type": "stream",
          "name": "stdout",
          "text": [
            "Authtoken saved to configuration file: /root/.ngrok2/ngrok.yml\n"
          ]
        }
      ]
    },
    {
      "cell_type": "code",
      "source": [
        "# ngrok setting\n",
        "\n",
        "from pyngrok import ngrok\n",
        "!ngrok authtoken #your token"
      ],
      "metadata": {
        "id": "T20wIM4SO_tx"
      },
      "execution_count": null,
      "outputs": []
    },
    {
      "cell_type": "code",
      "source": [
        "%cd /content/gdrive/My\\ Drive/automl\n",
        "!nohup streamlit run app.py --server.port 80 &"
      ],
      "metadata": {
        "colab": {
          "base_uri": "https://localhost:8080/"
        },
        "id": "WDlGUQD_J1l9",
        "outputId": "861722ca-bc2f-4ed4-8072-09bafa61c628"
      },
      "execution_count": null,
      "outputs": [
        {
          "output_type": "stream",
          "name": "stdout",
          "text": [
            "/content/gdrive/My Drive/automl\n"
          ]
        }
      ]
    },
    {
      "cell_type": "code",
      "source": [
        "url = ngrok.connect(port='80')\n",
        "print(url)"
      ],
      "metadata": {
        "colab": {
          "base_uri": "https://localhost:8080/"
        },
        "id": "aoJzfd2HHPFx",
        "outputId": "3940a8cd-cc0e-4dab-f68c-ae884d1d077b"
      },
      "execution_count": null,
      "outputs": [
        {
          "output_type": "stream",
          "name": "stdout",
          "text": [
            "NgrokTunnel: \"http://d22e-35-231-228-144.ngrok.io\" -> \"http://localhost:80\"\n"
          ]
        }
      ]
    },
    {
      "cell_type": "code",
      "source": [
        "# kill all tasks when leaving\n",
        "\n",
        "!killall ngrok\n",
        "!killall streamlit"
      ],
      "metadata": {
        "id": "fWLOJVJoM-cP"
      },
      "execution_count": null,
      "outputs": []
    }
  ]
}