{
  "nbformat": 4,
  "nbformat_minor": 0,
  "metadata": {
    "colab": {
      "provenance": [],
      "authorship_tag": "ABX9TyNmRiSgo85O4bXJe6RVnJ8D",
      "include_colab_link": true
    },
    "kernelspec": {
      "name": "python3",
      "display_name": "Python 3"
    },
    "language_info": {
      "name": "python"
    }
  },
  "cells": [
    {
      "cell_type": "markdown",
      "metadata": {
        "id": "view-in-github",
        "colab_type": "text"
      },
      "source": [
        "<a href=\"https://colab.research.google.com/github/pocession/automl/blob/main/colab_automl_dev.ipynb\" target=\"_parent\"><img src=\"https://colab.research.google.com/assets/colab-badge.svg\" alt=\"Open In Colab\"/></a>"
      ]
    },
    {
      "cell_type": "markdown",
      "source": [
        "# Connect to my gdrive"
      ],
      "metadata": {
        "id": "rNdQMYU5cF3G"
      }
    },
    {
      "cell_type": "code",
      "source": [
        "from google.colab import drive\n",
        " \n",
        "drive.mount('/content/gdrive')\n",
        "!ls /content/gdrive/My\\ Drive/automl"
      ],
      "metadata": {
        "id": "YBshFayUcHWh",
        "colab": {
          "base_uri": "https://localhost:8080/"
        },
        "outputId": "749b0998-6fe0-491c-a91d-659871e5f342"
      },
      "execution_count": 1,
      "outputs": [
        {
          "output_type": "stream",
          "name": "stdout",
          "text": [
            "Mounted at /content/gdrive\n",
            "app.py\t\t\tDidNotWorkInM1\t\t\t requirements.txt\n",
            "best_model.pkl\t\tlogs.log\t\t\t sourcedata.csv\n",
            "cell.png\t\tngrok-v3-stable-linux-amd64.tgz  test.py\n",
            "colab_automl_dev.ipynb\tnohup.out\n",
            "dataset.csv\t\tREADME.md\n"
          ]
        }
      ]
    },
    {
      "cell_type": "markdown",
      "source": [
        "# Package installation"
      ],
      "metadata": {
        "id": "dIjHBd-QW1uC"
      }
    },
    {
      "cell_type": "code",
      "source": [
        "# use terminal if you are more used to it\n",
        "\n",
        "# !pip install colab-xterm\n",
        "# %load_ext colabxterm\n",
        "# %xterm\n",
        "\n",
        "!pip install pycaret\n",
        "!pip install streamlit\n",
        "!pip install pyngrok\n",
        "!pip install streamlit_pandas_profiling\n",
        "\n",
        "# Builder\n",
        "\n",
        "!pip install --upgrade protobuf\n",
        "\n",
        "# Install other packages\n",
        "\n",
        "!pip install -r /content/gdrive/My\\ Drive/automl/requirements.txt\n",
        "\n",
        "# Install ngrok\n",
        "\n",
        "!rm ngrok*\n",
        "!wget https://bin.equinox.io/c/bNyj1mQVY4c/ngrok-v3-stable-linux-amd64.tgz\n",
        "!tar -xvzf ngrok-v3-stable-linux-amd64.tgz\n",
        "!ls\n",
        "!mv ngrok /usr/bin/\n",
        "!ls\n",
        "\n",
        "# Check packages\n",
        "\n",
        "!pip list -v"
      ],
      "metadata": {
        "id": "h-PiCYaCUx1o"
      },
      "execution_count": null,
      "outputs": []
    },
    {
      "cell_type": "markdown",
      "source": [
        "# Run App"
      ],
      "metadata": {
        "id": "HgwrULTKdXNR"
      }
    },
    {
      "cell_type": "code",
      "source": [
        "# Run app\n",
        "\n",
        "%cd /content/gdrive/My\\ Drive/automl\n",
        "!streamlit run app.py & npx localtunnel --port 8501 "
      ],
      "metadata": {
        "id": "pLvVsI4c5HMs",
        "colab": {
          "base_uri": "https://localhost:8080/"
        },
        "outputId": "14341152-4461-4390-c9e1-8a7a9fa77734"
      },
      "execution_count": null,
      "outputs": [
        {
          "output_type": "stream",
          "name": "stdout",
          "text": [
            "/content/gdrive/My Drive/automl\n",
            "[##................] / fetchMetadata: sill resolveWithNewModule emoji-regex@8.0\u001b[0m\u001b[K\n",
            "Collecting usage statistics. To deactivate, set browser.gatherUsageStats to False.\n",
            "\u001b[0m\n",
            "\u001b[K\u001b[?25hnpx: installed 22 in 4.446s\n",
            "your url is: https://little-comics-marry-34-66-85-44.loca.lt\n",
            "\u001b[0m\n",
            "\u001b[34m\u001b[1m  You can now view your Streamlit app in your browser.\u001b[0m\n",
            "\u001b[0m\n",
            "\u001b[34m  Network URL: \u001b[0m\u001b[1mhttp://172.28.0.12:8501\u001b[0m\n",
            "\u001b[34m  External URL: \u001b[0m\u001b[1mhttp://34.66.85.44:8501\u001b[0m\n",
            "\u001b[0m\n",
            "2022-12-29 19:32:23.862 Pandas backend loaded 1.3.5\n",
            "2022-12-29 19:32:23.867 Numpy backend loaded 1.19.5\n",
            "2022-12-29 19:32:23.867 Pyspark backend NOT loaded\n",
            "2022-12-29 19:32:23.867 Python backend loaded\n"
          ]
        }
      ]
    },
    {
      "cell_type": "code",
      "source": [],
      "metadata": {
        "id": "YJqpqPE23YYT"
      },
      "execution_count": null,
      "outputs": []
    },
    {
      "cell_type": "markdown",
      "source": [
        "# Create a public url for other people to use with ngrok"
      ],
      "metadata": {
        "id": "U1dcizdzE85w"
      }
    },
    {
      "cell_type": "code",
      "source": [
        "# Make sure to kill all ngrok and streamlit task now\n",
        "\n",
        "!killall ngrok\n",
        "!killall streamlit"
      ],
      "metadata": {
        "colab": {
          "base_uri": "https://localhost:8080/"
        },
        "id": "yBoK6omXE7eg",
        "outputId": "a298b782-0d26-4a6e-a715-183445855533"
      },
      "execution_count": null,
      "outputs": [
        {
          "output_type": "stream",
          "name": "stdout",
          "text": [
            "Authtoken saved to configuration file: /root/.ngrok2/ngrok.yml\n"
          ]
        }
      ]
    },
    {
      "cell_type": "code",
      "source": [
        "# ngrok setting\n",
        "\n",
        "from pyngrok import ngrok\n",
        "!ngrok authtoken 2JTJW7DspzUbI85Izh5RAehZtBE_5oNCNcbbNvKcmtxrfEp3j"
      ],
      "metadata": {
        "id": "T20wIM4SO_tx"
      },
      "execution_count": null,
      "outputs": []
    },
    {
      "cell_type": "code",
      "source": [
        "%cd /content/gdrive/My\\ Drive/automl\n",
        "!nohup streamlit run app.py --server.port 80 &"
      ],
      "metadata": {
        "colab": {
          "base_uri": "https://localhost:8080/"
        },
        "id": "WDlGUQD_J1l9",
        "outputId": "861722ca-bc2f-4ed4-8072-09bafa61c628"
      },
      "execution_count": null,
      "outputs": [
        {
          "output_type": "stream",
          "name": "stdout",
          "text": [
            "/content/gdrive/My Drive/automl\n"
          ]
        }
      ]
    },
    {
      "cell_type": "code",
      "source": [
        "url = ngrok.connect(port='80')\n",
        "print(url)"
      ],
      "metadata": {
        "colab": {
          "base_uri": "https://localhost:8080/"
        },
        "id": "aoJzfd2HHPFx",
        "outputId": "3940a8cd-cc0e-4dab-f68c-ae884d1d077b"
      },
      "execution_count": null,
      "outputs": [
        {
          "output_type": "stream",
          "name": "stdout",
          "text": [
            "NgrokTunnel: \"http://d22e-35-231-228-144.ngrok.io\" -> \"http://localhost:80\"\n"
          ]
        }
      ]
    },
    {
      "cell_type": "code",
      "source": [
        "# kill all tasks when leaving\n",
        "\n",
        "!killall ngrok\n",
        "!killall streamlit"
      ],
      "metadata": {
        "id": "fWLOJVJoM-cP"
      },
      "execution_count": null,
      "outputs": []
    }
  ]
}